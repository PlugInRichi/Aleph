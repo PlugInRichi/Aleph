{
  "nbformat": 4,
  "nbformat_minor": 0,
  "metadata": {
    "kernelspec": {
      "display_name": "Python 3",
      "language": "python",
      "name": "python3"
    },
    "language_info": {
      "codemirror_mode": {
        "name": "ipython",
        "version": 3
      },
      "file_extension": ".py",
      "mimetype": "text/x-python",
      "name": "python",
      "nbconvert_exporter": "python",
      "pygments_lexer": "ipython3",
      "version": "3.7.1"
    },
    "colab": {
      "name": "Keras-SequentialModel.ipynb",
      "provenance": []
    }
  },
  "cells": [
    {
      "cell_type": "code",
      "metadata": {
        "id": "frE0QVTbbEPK",
        "colab": {
          "base_uri": "https://localhost:8080/"
        },
        "outputId": "e32b57a9-e65f-44c0-8a82-fc08622bb2be"
      },
      "source": [
        "import tensorflow as tf\n",
        "print(tf.__version__)\n",
        "print(tf.config.list_physical_devices('GPU'))"
      ],
      "execution_count": 1,
      "outputs": [
        {
          "output_type": "stream",
          "name": "stdout",
          "text": [
            "2.6.0\n",
            "[]\n"
          ]
        }
      ]
    },
    {
      "cell_type": "markdown",
      "metadata": {
        "id": "sGHBKUlSbEPU"
      },
      "source": [
        "## Feedforward neural network model"
      ]
    },
    {
      "cell_type": "code",
      "metadata": {
        "id": "9HgrrtVzbEPT"
      },
      "source": [
        "from tensorflow.keras.models import Sequential\n",
        "from tensorflow.keras.layers import Dense, Flatten"
      ],
      "execution_count": 2,
      "outputs": []
    },
    {
      "cell_type": "code",
      "metadata": {
        "id": "S7AAsZzibEPV",
        "colab": {
          "base_uri": "https://localhost:8080/"
        },
        "outputId": "86a55415-ac13-47aa-f36d-a97b0f092b9d"
      },
      "source": [
        "# Build the Sequential feedforward neural network model\n",
        "model = Sequential()\n",
        "\n",
        "model.add(Flatten(input_shape = [28,28,28]))\n",
        "model.add(Dense(10, activation='elu'))\n",
        "model.add(Dense(20, activation='sigmoid'))\n",
        "\n",
        "model.summary()"
      ],
      "execution_count": 3,
      "outputs": [
        {
          "output_type": "stream",
          "name": "stdout",
          "text": [
            "Model: \"sequential\"\n",
            "_________________________________________________________________\n",
            "Layer (type)                 Output Shape              Param #   \n",
            "=================================================================\n",
            "flatten (Flatten)            (None, 21952)             0         \n",
            "_________________________________________________________________\n",
            "dense (Dense)                (None, 10)                219530    \n",
            "_________________________________________________________________\n",
            "dense_1 (Dense)              (None, 20)                220       \n",
            "=================================================================\n",
            "Total params: 219,750\n",
            "Trainable params: 219,750\n",
            "Non-trainable params: 0\n",
            "_________________________________________________________________\n"
          ]
        }
      ]
    },
    {
      "cell_type": "markdown",
      "metadata": {
        "id": "kEz80dd3cXLp"
      },
      "source": [
        "Alternative way to declare the same model"
      ]
    },
    {
      "cell_type": "code",
      "metadata": {
        "id": "YPxahLyUcUpq",
        "colab": {
          "base_uri": "https://localhost:8080/"
        },
        "outputId": "9be80e52-b38b-4e45-f470-bc86481d7be9"
      },
      "source": [
        "alternative_1 = Sequential([\n",
        "  Flatten(input_shape = [28,28,28]),\n",
        "  Dense(10, activation='elu'),\n",
        "  Dense(20, activation='sigmoid')\n",
        "])\n",
        "\n",
        "alternative_1.summary()"
      ],
      "execution_count": 4,
      "outputs": [
        {
          "output_type": "stream",
          "name": "stdout",
          "text": [
            "Model: \"sequential_1\"\n",
            "_________________________________________________________________\n",
            "Layer (type)                 Output Shape              Param #   \n",
            "=================================================================\n",
            "flatten_1 (Flatten)          (None, 21952)             0         \n",
            "_________________________________________________________________\n",
            "dense_2 (Dense)              (None, 10)                219530    \n",
            "_________________________________________________________________\n",
            "dense_3 (Dense)              (None, 20)                220       \n",
            "=================================================================\n",
            "Total params: 219,750\n",
            "Trainable params: 219,750\n",
            "Non-trainable params: 0\n",
            "_________________________________________________________________\n"
          ]
        }
      ]
    },
    {
      "cell_type": "code",
      "metadata": {
        "id": "S22PvzZueA-5",
        "colab": {
          "base_uri": "https://localhost:8080/"
        },
        "outputId": "64d049a4-e06c-4514-add3-f979ee108d49"
      },
      "source": [
        "alternative_2 = Sequential([\n",
        "  Dense(10, activation='elu', input_shape=(28*28*28,)),\n",
        "  Dense(20, activation='sigmoid')\n",
        "])\n",
        "\n",
        "alternative_2.summary()"
      ],
      "execution_count": 5,
      "outputs": [
        {
          "output_type": "stream",
          "name": "stdout",
          "text": [
            "Model: \"sequential_2\"\n",
            "_________________________________________________________________\n",
            "Layer (type)                 Output Shape              Param #   \n",
            "=================================================================\n",
            "dense_4 (Dense)              (None, 10)                219530    \n",
            "_________________________________________________________________\n",
            "dense_5 (Dense)              (None, 20)                220       \n",
            "=================================================================\n",
            "Total params: 219,750\n",
            "Trainable params: 219,750\n",
            "Non-trainable params: 0\n",
            "_________________________________________________________________\n"
          ]
        }
      ]
    },
    {
      "cell_type": "markdown",
      "metadata": {
        "id": "QjXZx-0zbEPW"
      },
      "source": [
        "\n",
        "## Convolutional Neural Network"
      ]
    },
    {
      "cell_type": "code",
      "metadata": {
        "id": "0lOF55ghbEPX"
      },
      "source": [
        "from tensorflow.keras.models import Sequential\n",
        "from tensorflow.keras.layers import Dense, Flatten, Conv2D, MaxPooling2D"
      ],
      "execution_count": 6,
      "outputs": []
    },
    {
      "cell_type": "code",
      "metadata": {
        "id": "NlhvQIzLbEPZ",
        "colab": {
          "base_uri": "https://localhost:8080/"
        },
        "outputId": "46b07b3e-25d2-48cd-c9aa-0f19344d5acc"
      },
      "source": [
        "# Build the Sequential convolutional neural network model\n",
        "conv = Sequential([\n",
        "Conv2D(filters=15, kernel_size=(7,7), \n",
        "       activation='relu', input_shape=(512,512,3)), #width, heigth, chanels\n",
        "MaxPooling2D(pool_size=(5,5)), # Equivalent to set strides=5\n",
        "Conv2D(filters=25,  kernel_size=5, #Equivalent to kernel_size=(5,5)\n",
        "       activation='relu'),#Equivalent to set padding='VALID'\n",
        "MaxPooling2D(pool_size=(3,3)),\n",
        "Flatten(),\n",
        "Dense(50, activation='tanh'),\n",
        "Dense(12, activation='softmax')                       \n",
        "])\n",
        "\n",
        "conv.summary()"
      ],
      "execution_count": 7,
      "outputs": [
        {
          "output_type": "stream",
          "name": "stdout",
          "text": [
            "Model: \"sequential_3\"\n",
            "_________________________________________________________________\n",
            "Layer (type)                 Output Shape              Param #   \n",
            "=================================================================\n",
            "conv2d (Conv2D)              (None, 506, 506, 15)      2220      \n",
            "_________________________________________________________________\n",
            "max_pooling2d (MaxPooling2D) (None, 101, 101, 15)      0         \n",
            "_________________________________________________________________\n",
            "conv2d_1 (Conv2D)            (None, 97, 97, 25)        9400      \n",
            "_________________________________________________________________\n",
            "max_pooling2d_1 (MaxPooling2 (None, 32, 32, 25)        0         \n",
            "_________________________________________________________________\n",
            "flatten_2 (Flatten)          (None, 25600)             0         \n",
            "_________________________________________________________________\n",
            "dense_6 (Dense)              (None, 50)                1280050   \n",
            "_________________________________________________________________\n",
            "dense_7 (Dense)              (None, 12)                612       \n",
            "=================================================================\n",
            "Total params: 1,292,282\n",
            "Trainable params: 1,292,282\n",
            "Non-trainable params: 0\n",
            "_________________________________________________________________\n"
          ]
        }
      ]
    }
  ]
}